{
 "cells": [
  {
   "cell_type": "code",
   "execution_count": null,
   "metadata": {},
   "outputs": [],
   "source": [
    "from classes import CardClass,StackClass, DeckClass\n",
    "import random\n",
    "from typing import List\n",
    "\n",
    "# Create a list to hold all the cards\n",
    "FullDeck: List[CardClass] = []\n",
    "\n",
    "# List of suits\n",
    "suits = [\"Hearts\", \"Diamonds\", \"Clubs\", \"Spades\"]\n",
    "ABs = [\"A\",\"B\"]\n",
    "# Loop through each suit and create 13 cards for each (1 to 13)\n",
    "for AB in ABs:\n",
    "    for suit in suits:\n",
    "        for number in range(1, 14):\n",
    "            card = CardClass(suit, number, AB)\n",
    "            FullDeck.append(card)\n",
    "\n",
    "# random shuffle the deck\n",
    "random.shuffle(FullDeck)\n"
   ]
  },
  {
   "cell_type": "code",
   "execution_count": null,
   "metadata": {},
   "outputs": [],
   "source": [
    "# Generate Stacks\n",
    "Stacks: List[StackClass] = []\n",
    "for position in range(1,14):\n",
    "    stack =  StackClass(position)\n",
    "    Stacks.append(stack)\n",
    "\n",
    "# Create Deck\n",
    "Deck = DeckClass()\n"
   ]
  },
  {
   "cell_type": "code",
   "execution_count": null,
   "metadata": {},
   "outputs": [],
   "source": [
    "def add_card_to_deck(dealingDeck: List[CardClass], targetDeck: DeckClass):\n",
    "    current_card = dealingDeck.pop(0)\n",
    "    targetDeck.add_card(current_card)\n",
    "\n",
    "def add_n_cards_to_deck(n: int, dealingDeck: List[CardClass], targetDeck: DeckClass):\n",
    "    for i in range(n):\n",
    "        add_card_to_deck(dealingDeck,targetDeck)\n",
    "\n",
    "def deal(FullDeck,Stacks,Deck):\n",
    "    stack_counter = 1\n",
    "    while len(FullDeck) > 0:\n",
    "\n",
    "        \n",
    "\n",
    "        #get card\n",
    "        current_card = FullDeck.pop(0)\n",
    "        #print(f\"Current card {current_card.name}\")\n",
    "\n",
    "        if stack_counter == current_card.number:\n",
    "            add_card_to_deck(FullDeck,Deck)\n",
    "        \n",
    "        if current_card.number == 1:\n",
    "            #add 2 cards to deck\n",
    "            add_n_cards_to_deck(2,FullDeck,Deck)\n",
    "        \n",
    "        #add card to current stack\n",
    "\n",
    "        Stacks[stack_counter-1].add_card(current_card)\n",
    "\n",
    "        if stack_counter == 10 and len(FullDeck) > 0:\n",
    "            add_card_to_deck(FullDeck,Deck)\n",
    "            \n",
    "        if stack_counter == 13 and len(FullDeck) > 0:\n",
    "            add_card_to_deck(FullDeck,Deck)\n",
    "            stack_counter = 1\n",
    "        else:\n",
    "            stack_counter = stack_counter + 1\n",
    "\n"
   ]
  },
  {
   "cell_type": "code",
   "execution_count": null,
   "metadata": {},
   "outputs": [],
   "source": [
    "deal(FullDeck,Stacks,Deck)"
   ]
  },
  {
   "cell_type": "code",
   "execution_count": null,
   "metadata": {},
   "outputs": [],
   "source": [
    "for i, stack in enumerate(Stacks, start=1):\n",
    "    print(f\"Stack {i}:\")\n",
    "    stack.show_all_cards()\n",
    "    print(\"-\" * 30)\n",
    "\n",
    "# Print the deck\n",
    "Deck.show_all_cards()"
   ]
  },
  {
   "cell_type": "code",
   "execution_count": null,
   "metadata": {},
   "outputs": [],
   "source": [
    "def reverse_deck_and_stacks(deck: DeckClass, stacks: List[StackClass]):\n",
    "    # Reverse the order of the cards in the deck\n",
    "    deck.cards.reverse()\n",
    "\n",
    "    # Reverse the order of the stacks\n",
    "    stacks.reverse()\n"
   ]
  },
  {
   "cell_type": "code",
   "execution_count": null,
   "metadata": {},
   "outputs": [],
   "source": [
    "def show_draw_area(Stacks:List[StackClass]):\n",
    "    \n",
    "    # Extract the first card of each stack or \"Empty\" if the stack is empty\n",
    "    first_cards = [stack.cards[0].name if stack.cards else \"Empty\" for stack in Stacks]\n",
    "\n",
    "    # Format the first row (Stacks 1-7)\n",
    "    first_row = \"\\t\".join([f\"{first_cards[i]}\" for i in range(7)])\n",
    "    print(first_row)\n",
    "\n",
    "    # Format the second row (Stacks 8-13), with extra spacing after Stack10\n",
    "    second_row_parts = [f\"{first_cards[i]}\" for i in range(7, 13)]\n",
    "    second_row = \"\\t\".join(second_row_parts[:3]) + \"\\t\\t\" + \"\\t\".join(second_row_parts[3:])\n",
    "    print(second_row)\n",
    "show_draw_area(Stacks)\n",
    "reverse_deck_and_stacks(Deck, Stacks)\n",
    "show_draw_area(Stacks)"
   ]
  },
  {
   "cell_type": "code",
   "execution_count": null,
   "metadata": {},
   "outputs": [],
   "source": []
  }
 ],
 "metadata": {
  "kernelspec": {
   "display_name": "SolitaireEnv",
   "language": "python",
   "name": "python3"
  },
  "language_info": {
   "codemirror_mode": {
    "name": "ipython",
    "version": 3
   },
   "file_extension": ".py",
   "mimetype": "text/x-python",
   "name": "python",
   "nbconvert_exporter": "python",
   "pygments_lexer": "ipython3",
   "version": "3.11.11"
  }
 },
 "nbformat": 4,
 "nbformat_minor": 2
}
